{
 "cells": [
  {
   "cell_type": "markdown",
   "metadata": {},
   "source": [
    "# Qdruant"
   ]
  },
  {
   "cell_type": "markdown",
   "metadata": {},
   "source": [
    "## Test Connection"
   ]
  },
  {
   "cell_type": "code",
   "execution_count": 1,
   "metadata": {},
   "outputs": [
    {
     "name": "stderr",
     "output_type": "stream",
     "text": [
      "c:\\Users\\l501l\\Desktop\\Qdrant_template\\.venv\\lib\\site-packages\\tqdm\\auto.py:21: TqdmWarning: IProgress not found. Please update jupyter and ipywidgets. See https://ipywidgets.readthedocs.io/en/stable/user_install.html\n",
      "  from .autonotebook import tqdm as notebook_tqdm\n"
     ]
    },
    {
     "name": "stdout",
     "output_type": "stream",
     "text": [
      "Connection successful. Collections: collections=[CollectionDescription(name='mongodb'), CollectionDescription(name='openai')]\n"
     ]
    }
   ],
   "source": [
    "from qdrant_client import QdrantClient\n",
    "\n",
    "# Initialize QdrantClient with the appropriate host and port\n",
    "url = 'Your Qdrant URL'\n",
    "client = QdrantClient(url=url, port=None)\n",
    "\n",
    "try:\n",
    "    # Attempt to retrieve collections\n",
    "    collections = client.get_collections()\n",
    "    # If successful, print the collections\n",
    "    print(\"Connection successful. Collections:\", collections)\n",
    "except Exception as e:\n",
    "    # If an exception occurs, print the error message\n",
    "    print(\"Connection failed:\", e)\n"
   ]
  },
  {
   "cell_type": "markdown",
   "metadata": {},
   "source": [
    "## Create Collection"
   ]
  },
  {
   "cell_type": "code",
   "execution_count": 2,
   "metadata": {},
   "outputs": [
    {
     "name": "stderr",
     "output_type": "stream",
     "text": [
      "WARNING:root:Use of deprecated import: use `qdrant_client.http` instead of `qdrant_openapi_client`\n"
     ]
    }
   ],
   "source": [
    "from src.database.qdrant.operations.create_operations import create_qdrant_collection"
   ]
  },
  {
   "cell_type": "code",
   "execution_count": 3,
   "metadata": {},
   "outputs": [
    {
     "name": "stdout",
     "output_type": "stream",
     "text": [
      "Collection 'openai' created successfully.\n"
     ]
    }
   ],
   "source": [
    "collection_name = 'openai'\n",
    "create_qdrant_collection(collection_name)"
   ]
  },
  {
   "cell_type": "code",
   "execution_count": 4,
   "metadata": {},
   "outputs": [
    {
     "name": "stdout",
     "output_type": "stream",
     "text": [
      "Collection 'mongodb' created successfully.\n"
     ]
    }
   ],
   "source": [
    "collection_name = 'mongodb'\n",
    "create_qdrant_collection(collection_name)"
   ]
  },
  {
   "cell_type": "markdown",
   "metadata": {},
   "source": [
    "## Insert Document"
   ]
  },
  {
   "cell_type": "code",
   "execution_count": 5,
   "metadata": {},
   "outputs": [],
   "source": [
    "from src.database.qdrant.operations.create_operations import insert_one_document"
   ]
  },
  {
   "cell_type": "code",
   "execution_count": 6,
   "metadata": {},
   "outputs": [],
   "source": [
    "collection_name = \"mongodb\"\n",
    "messages = [\n",
    "{'role':'system', 'content':\"\"\"You are an assistant who responds in the style of Dr Seuss. Every return format should be a JSON {\"poem\":return_message}\"\"\"},\n",
    "{'role':'user', 'content':\"\"\"write me a very short poem about a happy carrot\"\"\"}]\n",
    "response = {'test': 'message'}\n",
    "vector = [i for i in range(768)]\n",
    "payload = {'messages':messages, 'response': response}\n",
    "ids = None\n",
    "insert_one_document(collection_name, ids, vector, payload)"
   ]
  },
  {
   "cell_type": "markdown",
   "metadata": {},
   "source": [
    "# Test LLM"
   ]
  },
  {
   "cell_type": "markdown",
   "metadata": {},
   "source": [
    "## Insert a raw document(initial vector)"
   ]
  },
  {
   "cell_type": "code",
   "execution_count": 2,
   "metadata": {},
   "outputs": [
    {
     "name": "stderr",
     "output_type": "stream",
     "text": [
      "WARNING:root:Use of deprecated import: use `qdrant_client.http` instead of `qdrant_openapi_client`\n"
     ]
    }
   ],
   "source": [
    "from src.llm_api.openai import get_openai_chat_completion_log"
   ]
  },
  {
   "cell_type": "code",
   "execution_count": 3,
   "metadata": {},
   "outputs": [
    {
     "data": {
      "text/plain": [
       "\"Once upon a time in a faraway kingdom, there lived a young princess named Aurora. She had a special gift - the ability to communicate with animals. Aurora spent her days wandering through the enchanted forest, talking to birds, rabbits, and even the wise old owl who lived in the tallest tree.\\n\\nOne day, as Aurora was strolling through the forest, she heard a cry for help. Following the sound, she discovered a wounded unicorn lying in a clearing. The unicorn had been attacked by an evil sorcerer who wanted to harness its magical powers for his own dark purposes.\\n\\nAurora knew she had to help the unicorn, so she used her gift to heal its wounds and calm its fears. Grateful for her kindness, the unicorn offered to take Aurora on a magical journey to the sorcerer's castle to confront him.\\n\\nAs they approached the castle, the sorcerer unleashed his dark magic, creating a swirling vortex of shadows and lightning. But Aurora stood strong, her heart filled with courage and determination. With a wave of her hand, she called upon the animals of the forest to aid her in the battle against the sorcerer.\\n\\nThe birds swooped down, pecking at the sorcerer's eyes, while the rabbits burrowed under his feet, causing him to stumble. The wise old owl flew above, casting a beam of light that weakened the sorcerer's powers.\\n\\nIn the end, Aurora's bravery and the animals' teamwork prevailed. The sorcerer was defeated, his dark magic vanquished. The unicorn thanked Aurora for her help and bestowed upon her a magical amulet that would protect her from harm.\\n\\nAnd so, Princess Aurora returned to her kingdom, hailed as a hero and beloved by all for her kindness, courage, and connection to the enchanted world around her.\""
      ]
     },
     "execution_count": 3,
     "metadata": {},
     "output_type": "execute_result"
    }
   ],
   "source": [
    "collection_name = 'openai'\n",
    "messages = [\n",
    "    {'role':'system', 'content':\"\"\"I want you to act as a storyteller. You will come up with entertaining stories that are engaging, imaginative and captivating for the audience.\"\"\"},\n",
    "    {'role':'user', 'content':\"\"\"write a story with 300 words\"\"\"}]\n",
    "get_openai_chat_completion_log(collection_name, messages)"
   ]
  },
  {
   "cell_type": "code",
   "execution_count": 4,
   "metadata": {},
   "outputs": [
    {
     "data": {
      "text/plain": [
       "\"Sure, here's one for you: Why did the scarecrow win an award? Because he was outstanding in his field!\""
      ]
     },
     "execution_count": 4,
     "metadata": {},
     "output_type": "execute_result"
    }
   ],
   "source": [
    "collection_name = 'openai'\n",
    "messages = [\n",
    "    {'role':'system', 'content':\"\"\"You are an assistant.\"\"\"},\n",
    "    {'role':'user', 'content':\"\"\"Tell me a joke.\"\"\"}]\n",
    "get_openai_chat_completion_log(collection_name, messages)"
   ]
  },
  {
   "cell_type": "markdown",
   "metadata": {},
   "source": [
    "## Insert a document with embedding"
   ]
  },
  {
   "cell_type": "markdown",
   "metadata": {},
   "source": [
    "### Official Inferface"
   ]
  },
  {
   "cell_type": "code",
   "execution_count": 6,
   "metadata": {},
   "outputs": [
    {
     "data": {
      "text/plain": [
       "['76853c1e4dde4689b5889bf93384409f',\n",
       " 'c8baa31641784d53a546ee27f8e6dffe',\n",
       " 'f0cdbff928f445c9b0c86faaf32ed757',\n",
       " '8f77b9c0e7d1482a9351b9de956669d8',\n",
       " '6f9b11e61a0f4df781a6d937fafeade8',\n",
       " '8a6ed1fdb5874d63b5d591d40b4db667',\n",
       " '4baab22a232f40c9b0f47f2deee15d4e',\n",
       " '1e1860c4f7f04be995e3b565479c7fda']"
      ]
     },
     "execution_count": 6,
     "metadata": {},
     "output_type": "execute_result"
    }
   ],
   "source": [
    "from qdrant_client import QdrantClient\n",
    "\n",
    "# Initialize the client\n",
    "client = QdrantClient(url=url, port=None)\n",
    "\n",
    "client.add(\n",
    "    collection_name=\"knowledge-base\",\n",
    "    documents=[\n",
    "        \"Qdrant is a vector database & vector similarity search engine. It deploys as an API service providing search for the nearest high-dimensional vectors. With Qdrant, embeddings or neural network encoders can be turned into full-fledged applications for matching, searching, recommending, and much more!\",\n",
    "        \"Docker helps developers build, share, and run applications anywhere — without tedious environment configuration or management.\",\n",
    "        \"PyTorch is a machine learning framework based on the Torch library, used for applications such as computer vision and natural language processing.\",\n",
    "        \"MySQL is an open-source relational database management system (RDBMS). A relational database organizes data into one or more data tables in which data may be related to each other; these relations help structure the data. SQL is a language that programmers use to create, modify and extract data from the relational database, as well as control user access to the database.\",\n",
    "        \"NGINX is a free, open-source, high-performance HTTP server and reverse proxy, as well as an IMAP/POP3 proxy server. NGINX is known for its high performance, stability, rich feature set, simple configuration, and low resource consumption.\",\n",
    "        \"FastAPI is a modern, fast (high-performance), web framework for building APIs with Python 3.7+ based on standard Python type hints.\",\n",
    "        \"SentenceTransformers is a Python framework for state-of-the-art sentence, text and image embeddings. You can use this framework to compute sentence / text embeddings for more than 100 languages. These embeddings can then be compared e.g. with cosine-similarity to find sentences with a similar meaning. This can be useful for semantic textual similar, semantic search, or paraphrase mining.\",\n",
    "        \"The cron command-line utility is a job scheduler on Unix-like operating systems. Users who set up and maintain software environments use cron to schedule jobs (commands or shell scripts), also known as cron jobs, to run periodically at fixed times, dates, or intervals.\",\n",
    "    ]\n",
    ")"
   ]
  },
  {
   "cell_type": "markdown",
   "metadata": {},
   "source": [
    "### Custom Inferface"
   ]
  },
  {
   "cell_type": "code",
   "execution_count": 1,
   "metadata": {},
   "outputs": [
    {
     "name": "stderr",
     "output_type": "stream",
     "text": [
      "c:\\Users\\l501l\\Desktop\\Qdrant_template\\.venv\\lib\\site-packages\\tqdm\\auto.py:21: TqdmWarning: IProgress not found. Please update jupyter and ipywidgets. See https://ipywidgets.readthedocs.io/en/stable/user_install.html\n",
      "  from .autonotebook import tqdm as notebook_tqdm\n",
      "WARNING:root:Use of deprecated import: use `qdrant_client.http` instead of `qdrant_openapi_client`\n"
     ]
    }
   ],
   "source": [
    "from src.database.qdrant.operations.create_operations import create_qdrant_collection\n",
    "from src.llm_api.openai import get_openai_chat_completion_log_and_embed"
   ]
  },
  {
   "cell_type": "code",
   "execution_count": 2,
   "metadata": {},
   "outputs": [
    {
     "data": {
      "text/plain": [
       "'Sure! Why did the scarecrow win an award? Because he was outstanding in his field!'"
      ]
     },
     "execution_count": 2,
     "metadata": {},
     "output_type": "execute_result"
    }
   ],
   "source": [
    "collection_name = 'openai_with_embeddings'\n",
    "messages = [\n",
    "    {'role':'system', 'content':\"\"\"You are an assistant.\"\"\"},\n",
    "    {'role':'user', 'content':\"\"\"Tell me a joke.\"\"\"}]\n",
    "get_openai_chat_completion_log_and_embed(collection_name, messages)"
   ]
  },
  {
   "cell_type": "code",
   "execution_count": 3,
   "metadata": {},
   "outputs": [
    {
     "data": {
      "text/plain": [
       "'Why did the squirrel bring a tiny ruler to the forest? \\n\\nTo measure how \"tree-mendous\" the trees were!'"
      ]
     },
     "execution_count": 3,
     "metadata": {},
     "output_type": "execute_result"
    }
   ],
   "source": [
    "collection_name = 'openai_with_embeddings'\n",
    "messages = [\n",
    "    {'role':'system', 'content':\"\"\"You are an assistant.\"\"\"},\n",
    "    {'role':'user', 'content':\"\"\"Tell me a joke about animals.\"\"\"}]\n",
    "get_openai_chat_completion_log_and_embed(collection_name, messages)"
   ]
  }
 ],
 "metadata": {
  "kernelspec": {
   "display_name": ".venv",
   "language": "python",
   "name": "python3"
  },
  "language_info": {
   "codemirror_mode": {
    "name": "ipython",
    "version": 3
   },
   "file_extension": ".py",
   "mimetype": "text/x-python",
   "name": "python",
   "nbconvert_exporter": "python",
   "pygments_lexer": "ipython3",
   "version": "3.8.9"
  }
 },
 "nbformat": 4,
 "nbformat_minor": 2
}
